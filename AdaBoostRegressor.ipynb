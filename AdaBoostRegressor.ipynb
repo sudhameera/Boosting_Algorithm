{
 "cells": [
  {
   "cell_type": "code",
   "execution_count": 2,
   "id": "e287c4c7",
   "metadata": {},
   "outputs": [],
   "source": [
    "import pandas as pd"
   ]
  },
  {
   "cell_type": "code",
   "execution_count": 3,
   "id": "014dafc5",
   "metadata": {},
   "outputs": [],
   "source": [
    "data=pd.read_csv(\"insurance_pre.csv\")"
   ]
  },
  {
   "cell_type": "code",
   "execution_count": 4,
   "id": "c58f8286",
   "metadata": {},
   "outputs": [],
   "source": [
    "data=pd.get_dummies(data,drop_first=True)"
   ]
  },
  {
   "cell_type": "code",
   "execution_count": 5,
   "id": "e7a946cc",
   "metadata": {},
   "outputs": [
    {
     "data": {
      "text/plain": [
       "Index(['age', 'bmi', 'children', 'charges', 'sex_male', 'smoker_yes'], dtype='object')"
      ]
     },
     "execution_count": 5,
     "metadata": {},
     "output_type": "execute_result"
    }
   ],
   "source": [
    "data.columns"
   ]
  },
  {
   "cell_type": "code",
   "execution_count": 6,
   "id": "f0e9f605",
   "metadata": {},
   "outputs": [],
   "source": [
    "independent=data[['age', 'bmi', 'children', 'sex_male', 'smoker_yes']]"
   ]
  },
  {
   "cell_type": "code",
   "execution_count": 7,
   "id": "cb0e9326",
   "metadata": {},
   "outputs": [],
   "source": [
    "dependent=data[['charges']]"
   ]
  },
  {
   "cell_type": "code",
   "execution_count": 8,
   "id": "97530793",
   "metadata": {},
   "outputs": [],
   "source": [
    "from sklearn.model_selection import train_test_split\n",
    "x_train,x_test,y_train,y_test=train_test_split(independent,dependent,test_size=0.30,random_state=0)"
   ]
  },
  {
   "cell_type": "code",
   "execution_count": 143,
   "id": "826c6603",
   "metadata": {},
   "outputs": [
    {
     "name": "stderr",
     "output_type": "stream",
     "text": [
      "C:\\Users\\venka\\anaconda3\\lib\\site-packages\\sklearn\\utils\\validation.py:993: DataConversionWarning: A column-vector y was passed when a 1d array was expected. Please change the shape of y to (n_samples, ), for example using ravel().\n",
      "  y = column_or_1d(y, warn=True)\n"
     ]
    },
    {
     "data": {
      "text/plain": [
       "AdaBoostRegressor(n_estimators=3)"
      ]
     },
     "execution_count": 143,
     "metadata": {},
     "output_type": "execute_result"
    }
   ],
   "source": [
    "from sklearn.ensemble import AdaBoostRegressor\n",
    "regressor=AdaBoostRegressor(n_estimators=3,loss=\"linear\")\n",
    "regressor.fit(x_train,y_train)"
   ]
  },
  {
   "cell_type": "code",
   "execution_count": 144,
   "id": "e78fd1bb",
   "metadata": {},
   "outputs": [],
   "source": [
    "ypred=regressor.predict(x_test)"
   ]
  },
  {
   "cell_type": "code",
   "execution_count": 145,
   "id": "f6f23dce",
   "metadata": {},
   "outputs": [],
   "source": [
    "from sklearn.metrics import r2_score\n",
    "rscore=r2_score(y_test,ypred)"
   ]
  },
  {
   "cell_type": "code",
   "execution_count": 146,
   "id": "ea43cca5",
   "metadata": {},
   "outputs": [
    {
     "data": {
      "text/plain": [
       "0.879025785640819"
      ]
     },
     "execution_count": 146,
     "metadata": {},
     "output_type": "execute_result"
    }
   ],
   "source": [
    "rscore"
   ]
  },
  {
   "cell_type": "code",
   "execution_count": null,
   "id": "756ce989",
   "metadata": {},
   "outputs": [],
   "source": []
  },
  {
   "cell_type": "code",
   "execution_count": null,
   "id": "e5394b43",
   "metadata": {},
   "outputs": [],
   "source": []
  }
 ],
 "metadata": {
  "kernelspec": {
   "display_name": "Python 3 (ipykernel)",
   "language": "python",
   "name": "python3"
  },
  "language_info": {
   "codemirror_mode": {
    "name": "ipython",
    "version": 3
   },
   "file_extension": ".py",
   "mimetype": "text/x-python",
   "name": "python",
   "nbconvert_exporter": "python",
   "pygments_lexer": "ipython3",
   "version": "3.9.13"
  }
 },
 "nbformat": 4,
 "nbformat_minor": 5
}
